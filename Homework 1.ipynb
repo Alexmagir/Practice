{
 "cells": [
  {
   "cell_type": "markdown",
   "metadata": {},
   "source": [
    "<center>\n",
    "    <img src=\"https://cf-courses-data.s3.us.cloud-object-storage.appdomain.cloud/IBMDeveloperSkillsNetwork-DS0105EN-SkillsNetwork/labs/Module2/images/SN_web_lightmode.png\" width=\"300\" alt=\"cognitiveclass.ai logo\"  />\n",
    "</center>\n"
   ]
  },
  {
   "cell_type": "markdown",
   "metadata": {},
   "source": [
    "# My Jupyter Notebook on IBM Watson Studio"
   ]
  },
  {
   "cell_type": "markdown",
   "metadata": {},
   "source": [
    "**Hugo Alexander Marín Giraldo**\n",
    "\n",
    "Economist"
   ]
  },
  {
   "cell_type": "markdown",
   "metadata": {},
   "source": [
    "*i'm interested in Data Science because it's a great compliment for my curriculum vitae*\n",
    "\n",
    "*With Data Science I can apply my stadictics and econometrics knowledge*"
   ]
  },
  {
   "cell_type": "markdown",
   "metadata": {},
   "source": [
    "### My code will show the result of a math test. If it is upper 3 will be \"approved\", otherwise \"bye\""
   ]
  },
  {
   "cell_type": "code",
   "execution_count": 3,
   "metadata": {},
   "outputs": [
    {
     "name": "stdout",
     "output_type": "stream",
     "text": [
      "bye\n"
     ]
    }
   ],
   "source": [
    "test = int(input(\"testresult\"))\n",
    "if test < 3:\n",
    "    print(\"bye\")\n",
    "else:\n",
    "    print(\"Approved\")"
   ]
  },
  {
   "cell_type": "markdown",
   "metadata": {},
   "source": [
    "ID\n",
    "___\n",
    "\n",
    "| Salary | Name |\n",
    "|---|:---|\n",
    "| 100000 | Alex|\n",
    "| 70000 | Maria |\n",
    "\n",
    "[Here is one of the best music work of 2022](https://open.spotify.com/album/3Ks0eeH0GWpY4AU20D5HPD?autoplay=true)"
   ]
  }
 ],
 "metadata": {
  "kernelspec": {
   "display_name": "Python 3.11.0 64-bit",
   "language": "python",
   "name": "python3"
  },
  "language_info": {
   "codemirror_mode": {
    "name": "ipython",
    "version": 3
   },
   "file_extension": ".py",
   "mimetype": "text/x-python",
   "name": "python",
   "nbconvert_exporter": "python",
   "pygments_lexer": "ipython3",
   "version": "3.11.0"
  },
  "orig_nbformat": 4,
  "vscode": {
   "interpreter": {
    "hash": "c91a5e59b0bd5c811eb0e9513b35c4e4ac63390407e94c19ec3238554627eb65"
   }
  }
 },
 "nbformat": 4,
 "nbformat_minor": 2
}
